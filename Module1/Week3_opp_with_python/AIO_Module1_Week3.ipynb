{
  "nbformat": 4,
  "nbformat_minor": 0,
  "metadata": {
    "colab": {
      "provenance": []
    },
    "kernelspec": {
      "name": "python3",
      "display_name": "Python 3"
    },
    "language_info": {
      "name": "python"
    }
  },
  "cells": [
    {
      "cell_type": "code",
      "execution_count": null,
      "metadata": {
        "id": "4jpP8WCtNRp2",
        "colab": {
          "base_uri": "https://localhost:8080/"
        },
        "outputId": "c4597a19-bb3b-45d6-9c56-5df57abaec4f"
      },
      "outputs": [
        {
          "output_type": "stream",
          "name": "stdout",
          "text": [
            "tensor([0.0900, 0.2447, 0.6652])\n"
          ]
        }
      ],
      "source": [
        "\n",
        "# The Softmax function in torch.nn is a module that takes an input tensor\n",
        "# and outputs a probability distribution over the predicted output classes.\n",
        "# softmax = nn.Softmax(dim=1)\n",
        "# dim=1 specifies the dimension along which to compute softmax\n",
        "import torch\n",
        "import torch.nn as nn\n",
        "\n",
        "data = torch.Tensor([1, 2, 3])\n",
        "softmax_function = nn.Softmax(dim=0)\n",
        "output = softmax_function(data)\n",
        "print(output)\n"
      ]
    },
    {
      "cell_type": "code",
      "source": [
        "import torch\n",
        "import torch.nn as nn\n",
        "\n",
        "class MySoftmax(nn.Module):\n",
        "    def __init__(self):\n",
        "        super().__init__()\n",
        "\n",
        "    def forward(self, x):\n",
        "        x_exp = torch.exp(x)\n",
        "        partition = x_exp.sum(0, keepdims=True)\n",
        "        return x_exp / partition\n",
        "\n",
        "data = torch.Tensor([5, 2, 4])\n",
        "my_softmax = MySoftmax()\n",
        "output = my_softmax(data)\n",
        "\n",
        "assert round(output[-1].item(), 2) == 0.26\n",
        "output"
      ],
      "metadata": {
        "colab": {
          "base_uri": "https://localhost:8080/"
        },
        "id": "D-tuscZUxvcg",
        "outputId": "c947c221-b1af-4f98-c4f1-9623fd24f5af"
      },
      "execution_count": 8,
      "outputs": [
        {
          "output_type": "execute_result",
          "data": {
            "text/plain": [
              "tensor([0.7054, 0.0351, 0.2595])"
            ]
          },
          "metadata": {},
          "execution_count": 8
        }
      ]
    },
    {
      "cell_type": "code",
      "source": [
        "import torch\n",
        "import torch.nn as nn\n",
        "\n",
        "class SoftmaxStable(nn.Module):\n",
        "    def __init__(self):\n",
        "        super().__init__()\n",
        "\n",
        "    def forward(self, x):\n",
        "        x_max = torch.max(x, dim=0, keepdims=True)\n",
        "        x_exp = torch.exp(x - x_max.values)\n",
        "        partition = x_exp.sum(0, keepdims=True)\n",
        "        return x_exp / partition\n",
        "\n",
        "data = torch.Tensor([1, 2, 3])\n",
        "softmax_stable = SoftmaxStable()\n",
        "output = softmax_stable(data)\n",
        "output"
      ],
      "metadata": {
        "colab": {
          "base_uri": "https://localhost:8080/"
        },
        "id": "eLsnaX9LzEbF",
        "outputId": "bbe67f57-3dae-4dc8-916f-b32ea9c37001"
      },
      "execution_count": null,
      "outputs": [
        {
          "output_type": "execute_result",
          "data": {
            "text/plain": [
              "tensor([0.0900, 0.2447, 0.6652])"
            ]
          },
          "metadata": {},
          "execution_count": 5
        }
      ]
    },
    {
      "cell_type": "code",
      "source": [
        "import torch\n",
        "import torch.nn as nn\n",
        "\n",
        "class SoftmaxStable(nn.Module):\n",
        "    def __init__(self):\n",
        "        super().__init__()\n",
        "\n",
        "    def forward(self, x):\n",
        "        x_max = torch.max(x, dim=0, keepdims=True)\n",
        "        x_exp = torch.exp(x - x_max.values)\n",
        "        partition = x_exp.sum(0, keepdims=True)\n",
        "        return x_exp / partition\n",
        "\n",
        "data = torch.Tensor([1, 2, 3])\n",
        "softmax_stable = SoftmaxStable()\n",
        "output = softmax_stable(data)\n",
        "assert round(output[-1].item(), 2) == 0.67\n",
        "output"
      ],
      "metadata": {
        "colab": {
          "base_uri": "https://localhost:8080/"
        },
        "id": "ualVk3Pl0ZkM",
        "outputId": "868965a9-6f21-4e4a-f4b8-f6a7a58d8d38"
      },
      "execution_count": 16,
      "outputs": [
        {
          "output_type": "execute_result",
          "data": {
            "text/plain": [
              "tensor([0.0900, 0.2447, 0.6652])"
            ]
          },
          "metadata": {},
          "execution_count": 16
        }
      ]
    },
    {
      "cell_type": "code",
      "source": [
        "# Excercise 2\n",
        "from abc import ABC, abstractmethod\n",
        "\n",
        "class Person(ABC):\n",
        "    def __init__(self, name:str, yob:int):\n",
        "        self._name = name\n",
        "        self._yob = yob\n",
        "\n",
        "    def get_yob(self):\n",
        "        return self._yob\n",
        "\n",
        "    @abstractmethod\n",
        "    def describe(self):\n",
        "        pass\n",
        "\n",
        "\n",
        "class Student(Person):\n",
        "    def __init__(self, name:str, yob:int, grade:str):\n",
        "        super().__init__(name=name, yob=yob)\n",
        "        self.__grade = grade\n",
        "\n",
        "    def describe(self):\n",
        "        print(f\"Student - Name: {self._name} - YoB: {self._yob} - Grade: {self.__grade}\")\n",
        "\n",
        "\n",
        "class Teacher(Person):\n",
        "    def __init__(self, name:str, yob:int, subject:str):\n",
        "        super().__init__(name=name, yob=yob)\n",
        "        self.__subject = subject\n",
        "\n",
        "    def describe(self):\n",
        "        print(f\"Teacher - Name: {self._name} - YoB: {self._yob} - Subject: {self.__subject}\")\n",
        "\n",
        "\n",
        "class Doctor(Person):\n",
        "    def __init__(self, name:str, yob:int, specialist:str):\n",
        "        super().__init__(name=name, yob=yob)\n",
        "        self.__specialist = specialist\n",
        "\n",
        "    def describe(self):\n",
        "        print(f\"Doctor - Name: {self._name} - YoB: {self._yob} - Specialist: {self.__specialist}\")\n"
      ],
      "metadata": {
        "id": "L2yMruGn_3Lb"
      },
      "execution_count": 23,
      "outputs": []
    },
    {
      "cell_type": "code",
      "source": [
        "student1 = Student(name=\"studentZ2023\", yob=2011, grade=\"6\")\n",
        "#assert student1._yob() == 2011\n",
        "student1.describe()"
      ],
      "metadata": {
        "colab": {
          "base_uri": "https://localhost:8080/"
        },
        "id": "gmNqEt_N1RNl",
        "outputId": "b8e863cd-7290-4b4a-8757-212afa40be42"
      },
      "execution_count": 28,
      "outputs": [
        {
          "output_type": "stream",
          "name": "stdout",
          "text": [
            "Student - Name: studentZ2023 - YoB: 2011 - Grade: 6\n"
          ]
        }
      ]
    },
    {
      "cell_type": "code",
      "source": [
        "student1 = Student(name=\"studentA\", yob=2010, grade=\"7\")\n",
        "student1.describe()\n",
        "\n",
        "teacher1 = Teacher(name=\"teacherA\", yob=1969, subject=\"Math\")\n",
        "teacher1.describe()\n",
        "\n",
        "doctor1 = Doctor(name=\"doctorA\", yob=1945, specialist=\"Endocrinologists\")\n",
        "doctor1.describe()"
      ],
      "metadata": {
        "colab": {
          "base_uri": "https://localhost:8080/"
        },
        "id": "kzx9LRPCBjyZ",
        "outputId": "e0ccdc2f-6a5a-4c05-c88b-153f7f2d3445"
      },
      "execution_count": 29,
      "outputs": [
        {
          "output_type": "stream",
          "name": "stdout",
          "text": [
            "Student - Name: studentA - YoB: 2010 - Grade: 7\n",
            "Teacher - Name: teacherA - YoB: 1969 - Subject: Math\n",
            "Doctor - Name: doctorA - YoB: 1945 - Specialist: Endocrinologists\n"
          ]
        }
      ]
    },
    {
      "cell_type": "code",
      "source": [
        "class Ward:\n",
        "    def __init__(self, name:str):\n",
        "        self.__name = name\n",
        "        self.__list_people = list()\n",
        "\n",
        "    def add_person(self, person:Person):\n",
        "        self.__list_people.append(person)\n",
        "\n",
        "    def describe(self):\n",
        "        print(f\"Ward Name: {self.__name}\")\n",
        "        for p in self.__list_people:\n",
        "            p.describe()\n",
        "\n",
        "    def count_doctor(self):\n",
        "        counter = 0\n",
        "        for p in self.__list_people:\n",
        "            if isinstance(p, Doctor): #if type(p) is Doctor:\n",
        "                counter += 1\n",
        "        return counter\n",
        "\n",
        "    def sort_age(self):\n",
        "        self.__list_people.sort(key=lambda x: x.get_yob(), reverse=True)\n",
        "\n",
        "    def compute_average(self):\n",
        "        counter = 0\n",
        "        total_year = 0\n",
        "        for p in self.__list_people:\n",
        "            if isinstance(p, Teacher): #if type(p) is Teacher:\n",
        "                counter += 1\n",
        "                total_year += p.get_yob()\n",
        "        return total_year/counter"
      ],
      "metadata": {
        "id": "3LpXFvYbB_t6"
      },
      "execution_count": 3,
      "outputs": []
    },
    {
      "cell_type": "code",
      "source": [
        "# 2(a)\n",
        "student1 = Student(name=\"studentA\", yob=2010, grade=\"7\")\n",
        "student1.describe()\n",
        "\n",
        "teacher1 = Teacher(name=\"teacherA\", yob=1969, subject=\"Math\")\n",
        "teacher1.describe()\n",
        "\n",
        "doctor1 = Doctor(name=\"doctorA\", yob=1945, specialist=\"Endocrinologists\")\n",
        "doctor1.describe()\n",
        "\n",
        "\n",
        "# 2(b)\n",
        "print()\n",
        "teacher2 = Teacher(name=\"teacherB\", yob=1995, subject=\"History\")\n",
        "doctor2 = Doctor(name=\"doctorB\", yob=1975, specialist=\"Cardiologists\")\n",
        "ward1 = Ward(name=\"Ward1\")\n",
        "ward1.add_person(student1)\n",
        "ward1.add_person(teacher1)\n",
        "ward1.add_person(teacher2)\n",
        "ward1.add_person(doctor1)\n",
        "ward1.add_person(doctor2)\n",
        "ward1.describe()\n",
        "\n",
        "# 2(c)\n",
        "print(f\"\\nNumber of doctors: {ward1.count_doctor()}\")\n",
        "\n",
        "# 2(d)\n",
        "print(\"\\nAfter sorting Age of Ward1 people\")\n",
        "ward1.sort_age()\n",
        "ward1.describe()\n",
        "\n",
        "# 2(e)\n",
        "print(f\"\\nAverage year of birth (teachers): {ward1.compute_average()}\")"
      ],
      "metadata": {
        "colab": {
          "base_uri": "https://localhost:8080/"
        },
        "id": "pS2tt9sgC0oz",
        "outputId": "b619d651-6bc2-4399-a157-c9a076d458cf"
      },
      "execution_count": 4,
      "outputs": [
        {
          "output_type": "stream",
          "name": "stdout",
          "text": [
            "Student - Name: studentA - YoB: 2010 - Grade: 7\n",
            "Teacher - Name: teacherA - YoB: 1969 - Subject: Math\n",
            "Doctor - Name: doctorA - YoB: 1945 - Specialist: Endocrinologists\n",
            "\n",
            "Ward Name: Ward1\n",
            "Student - Name: studentA - YoB: 2010 - Grade: 7\n",
            "Teacher - Name: teacherA - YoB: 1969 - Subject: Math\n",
            "Teacher - Name: teacherB - YoB: 1995 - Subject: History\n",
            "Doctor - Name: doctorA - YoB: 1945 - Specialist: Endocrinologists\n",
            "Doctor - Name: doctorB - YoB: 1975 - Specialist: Cardiologists\n",
            "\n",
            "Number of doctors: 2\n",
            "\n",
            "After sorting Age of Ward1 people\n",
            "Ward Name: Ward1\n",
            "Student - Name: studentA - YoB: 2010 - Grade: 7\n",
            "Teacher - Name: teacherB - YoB: 1995 - Subject: History\n",
            "Doctor - Name: doctorB - YoB: 1975 - Specialist: Cardiologists\n",
            "Teacher - Name: teacherA - YoB: 1969 - Subject: Math\n",
            "Doctor - Name: doctorA - YoB: 1945 - Specialist: Endocrinologists\n",
            "\n",
            "Average year of birth (teachers): 1982.0\n"
          ]
        }
      ]
    },
    {
      "cell_type": "code",
      "source": [
        "# Excercise 3\n",
        "class MyStack:\n",
        "  def __init__(self,capacity):\n",
        "    self.__capacity = capacity\n",
        "    self.__stack = []\n",
        "\n",
        "\n",
        "  def is_empty(self):\n",
        "    return len(self.__stack) == 0\n",
        "\n",
        "\n",
        "  def is_full(self):\n",
        "    return len(self.__stack) == self.__capacity\n",
        "\n",
        "\n",
        "  def pop(self):\n",
        "    if self.is_empty():\n",
        "      raise Exception(\"Underflow\")\n",
        "    return self.__stack.pop()\n",
        "\n",
        "\n",
        "  def push(self, value):\n",
        "    if len(self.__stack) < self.__capacity:\n",
        "      self.__stack.append(value)\n",
        "\n",
        "\n",
        "  def top(self):\n",
        "    if self.is_empty():\n",
        "      print(\"Queue is empty\")\n",
        "      return\n",
        "    return self.__stack[-1]\n",
        ""
      ],
      "metadata": {
        "id": "Ao_3PXfdFPA8"
      },
      "execution_count": 30,
      "outputs": []
    },
    {
      "cell_type": "code",
      "source": [
        "stack1 = MyStack(capacity=5)\n",
        "\n",
        "stack1.push(1)\n",
        "\n",
        "assert stack1.is_full() == False\n",
        "\n",
        "stack1.push(2)\n",
        "\n",
        "print(stack1.is_full())\n",
        "print(stack1.top())"
      ],
      "metadata": {
        "colab": {
          "base_uri": "https://localhost:8080/"
        },
        "id": "PbMTvOwN5LOk",
        "outputId": "af913f0a-2967-4421-8d19-a10ecdd835bf"
      },
      "execution_count": 32,
      "outputs": [
        {
          "output_type": "stream",
          "name": "stdout",
          "text": [
            "False\n",
            "2\n"
          ]
        }
      ]
    },
    {
      "cell_type": "code",
      "source": [
        "stack1 = MyStack(capacity=5)\n",
        "\n",
        "stack1.push(1)\n",
        "\n",
        "stack1.push(2)\n",
        "\n",
        "print(stack1.is_full())\n",
        "\n",
        "print(stack1.top())\n",
        "\n",
        "print(stack1.pop())\n",
        "\n",
        "print(stack1.top())\n",
        "\n",
        "print(stack1.pop())\n",
        "\n",
        "print(stack1.is_empty())"
      ],
      "metadata": {
        "colab": {
          "base_uri": "https://localhost:8080/"
        },
        "id": "0K5WR1QYqq_q",
        "outputId": "8249fb3f-e767-4d09-8a85-51eb4ba61f22"
      },
      "execution_count": 2,
      "outputs": [
        {
          "output_type": "stream",
          "name": "stdout",
          "text": [
            "False\n",
            "2\n",
            "2\n",
            "1\n",
            "1\n",
            "True\n"
          ]
        }
      ]
    },
    {
      "cell_type": "code",
      "source": [
        "# Excercise 4\n",
        "class MyQueue:\n",
        "\n",
        "  def __init__(self,capacity):\n",
        "    self.__capacity = capacity\n",
        "    self.__queue = []\n",
        "\n",
        "\n",
        "  def is_empty(self):\n",
        "    return len(self.__queue) == 0\n",
        "\n",
        "\n",
        "  def is_full(self):\n",
        "    return len(self.__queue) == self.__capacity\n",
        "\n",
        "  def dequeue(self):\n",
        "    if self.is_empty():\n",
        "      raise Exception(\"Underflow\")\n",
        "    return self.__queue.pop(0)\n",
        "\n",
        "\n",
        "  def enqueue(self, value):\n",
        "    if len(self.__queue) < self.__capacity:\n",
        "      self.__queue.append(value)\n",
        "\n",
        "\n",
        "  def front(self):\n",
        "    if self.is_empty():\n",
        "      print(\"Queue is empty\")\n",
        "      return\n",
        "    return self.__queue[0]"
      ],
      "metadata": {
        "id": "yGatfgh9rJbo"
      },
      "execution_count": 33,
      "outputs": []
    },
    {
      "cell_type": "code",
      "source": [
        "queue1 = MyQueue(capacity=5)\n",
        "\n",
        "queue1.enqueue(1)\n",
        "\n",
        "assert queue1.is_full() == False\n",
        "\n",
        "queue1.enqueue(2)\n",
        "\n",
        "print(queue1.is_full())\n",
        "print(queue1.front())"
      ],
      "metadata": {
        "colab": {
          "base_uri": "https://localhost:8080/"
        },
        "id": "Suhw2fBh6AFN",
        "outputId": "6b006d9c-fa13-4a52-c3ec-1d5e3d6ad299"
      },
      "execution_count": 34,
      "outputs": [
        {
          "output_type": "stream",
          "name": "stdout",
          "text": [
            "False\n",
            "1\n"
          ]
        }
      ]
    },
    {
      "cell_type": "code",
      "source": [
        "####### Trac Nghiem #######"
      ],
      "metadata": {
        "id": "fSXzyYUDthIA"
      },
      "execution_count": null,
      "outputs": []
    },
    {
      "cell_type": "code",
      "source": [
        "# Cau hoi 3\n",
        "\n",
        "import torch\n",
        "import torch.nn as nn\n",
        "\n",
        "class MySoftmax(nn.Module):\n",
        "    def __init__(self):\n",
        "        super().__init__()\n",
        "\n",
        "    def forward(self, x):\n",
        "        x_exp = torch.exp(x)\n",
        "        partition = x_exp.sum(0, keepdims=True)\n",
        "        return x_exp / partition\n",
        "\n",
        "data = torch.Tensor([1, 2, 300000000])\n",
        "my_softmax = MySoftmax()\n",
        "output = my_softmax(data)\n",
        "\n",
        "#assert round(output[-1].item(), 2) == 0.0\n",
        "output"
      ],
      "metadata": {
        "colab": {
          "base_uri": "https://localhost:8080/"
        },
        "id": "wBMppRlDvs8s",
        "outputId": "fddd7720-e194-41a9-a0cf-72f51a897e38"
      },
      "execution_count": 15,
      "outputs": [
        {
          "output_type": "execute_result",
          "data": {
            "text/plain": [
              "tensor([0., 0., nan])"
            ]
          },
          "metadata": {},
          "execution_count": 15
        }
      ]
    }
  ]
}