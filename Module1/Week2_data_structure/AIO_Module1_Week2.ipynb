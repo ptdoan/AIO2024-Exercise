{
  "cells": [
    {
      "cell_type": "code",
      "execution_count": 6,
      "metadata": {
        "colab": {
          "base_uri": "https://localhost:8080/"
        },
        "id": "hktEQpk9tCX6",
        "outputId": "49c1b134-2e29-40ec-fd2a-eb120dc8a08b"
      },
      "outputs": [
        {
          "name": "stdout",
          "output_type": "stream",
          "text": [
            "[5, 5, 5, 5, 10, 12, 33, 33]\n"
          ]
        }
      ],
      "source": [
        "# Exercise1_get_max_over_kernel\n",
        "def max_kernel(num_list,k):\n",
        "  result = []\n",
        "  for i in range(len(num_list) + 1 - k):\n",
        "    result.append(max(num_list[i:i+k]))\n",
        "  return result\n",
        "\n",
        "assert max_kernel([3,4,5,1,-44],3) == [5,5,5]\n",
        "num_list = [3,4,5,1,-44,5,10,12,33,1]\n",
        "k = 3\n",
        "print(max_kernel(num_list,k))"
      ]
    },
    {
      "cell_type": "code",
      "execution_count": 16,
      "metadata": {
        "colab": {
          "base_uri": "https://localhost:8080/"
        },
        "id": "vFiL1LGKvx59",
        "outputId": "16b9dc9f-3ad9-4dbe-f901-d7404543bb6e"
      },
      "outputs": [
        {
          "name": "stdout",
          "output_type": "stream",
          "text": [
            "{'s': 2, 'm': 1, 'i': 1, 'l': 1, 'e': 1}\n"
          ]
        }
      ],
      "source": [
        "# Exercise2_count_char_in_string\n",
        "def character_count(string):\n",
        "    result = {}\n",
        "    #string = string.lower()\n",
        "    for char in string:\n",
        "        if char in result:\n",
        "            result[char] += 1\n",
        "        else:\n",
        "            result[char] = 1\n",
        "    return result\n",
        "\n",
        "assert character_count(\"Baby\") == {'B':1,'a': 1,'b':1,'y':1}\n",
        "print(character_count ('smiles'))"
      ]
    },
    {
      "cell_type": "code",
      "execution_count": 18,
      "metadata": {
        "colab": {
          "base_uri": "https://localhost:8080/"
        },
        "id": "IlhpMfLHh9pE",
        "outputId": "7d364421-17f5-4842-cc01-9d21b6f8d5d6"
      },
      "outputs": [
        {
          "name": "stdout",
          "output_type": "stream",
          "text": [
            "Downloading...\n",
            "From: https://drive.google.com/uc?id=1IBScGdW2xlNsc9v5zSAya548kNgiOrko\n",
            "To: /content/P1_data.txt\n",
            "\r  0% 0.00/747 [00:00<?, ?B/s]\r100% 747/747 [00:00<00:00, 2.32MB/s]\n"
          ]
        }
      ],
      "source": [
        "!gdown https://drive.google.com/uc?id=1IBScGdW2xlNsc9v5zSAya548kNgiOrko"
      ]
    },
    {
      "cell_type": "code",
      "execution_count": 19,
      "metadata": {
        "colab": {
          "base_uri": "https://localhost:8080/"
        },
        "id": "ypJWVmvfnohZ",
        "outputId": "d6da314b-fac0-4a6d-c659-9e68c571ed87"
      },
      "outputs": [
        {
          "data": {
            "text/plain": [
              "list"
            ]
          },
          "execution_count": 19,
          "metadata": {},
          "output_type": "execute_result"
        }
      ],
      "source": [
        "with open('/content/P1_data.txt', 'r') as f:\n",
        "  sentences = f.readlines()\n",
        "type(sentences)"
      ]
    },
    {
      "cell_type": "code",
      "execution_count": 20,
      "metadata": {
        "colab": {
          "base_uri": "https://localhost:8080/"
        },
        "id": "6T_3a-y7pf9M",
        "outputId": "ba8ba5e9-d0d1-43dc-a20c-9e43a528990a"
      },
      "outputs": [
        {
          "data": {
            "text/plain": [
              "['He who conquers himself is the mightiest warrior\\n',\n",
              " 'Try not to become a man of success but rather become a man of value\\n']"
            ]
          },
          "execution_count": 20,
          "metadata": {},
          "output_type": "execute_result"
        }
      ],
      "source": [
        "sentences[:2]"
      ]
    },
    {
      "cell_type": "code",
      "execution_count": 21,
      "metadata": {
        "colab": {
          "base_uri": "https://localhost:8080/"
        },
        "id": "O3uao30v5ebH",
        "outputId": "d04a0f58-3d7b-43c0-f4c0-0449a20715c4"
      },
      "outputs": [
        {
          "name": "stdout",
          "output_type": "stream",
          "text": [
            "6\n"
          ]
        }
      ],
      "source": [
        "# Exercise3_count_word_in_file\n",
        "def preprocess_text(sentence):\n",
        "  sentence = sentence.lower()\n",
        "  sentence = sentence.strip()\n",
        "  sentence = sentence.replace(',', '')\n",
        "  sentence = sentence.replace('.', '')\n",
        "  word = sentence.split()\n",
        "  return word\n",
        "\n",
        "#sentence = 'I love AI. AI    is not easy.'\n",
        "#preprocess_text(sentence)\n",
        "\n",
        "def count_word(file_path):\n",
        "  counter = {}\n",
        "  with open(file_path, 'r') as f:\n",
        "    sentences = f.readlines()\n",
        "  for sentence in sentences:\n",
        "    words = preprocess_text(sentence)\n",
        "    for word in words:\n",
        "      if word in counter:\n",
        "        counter[word] += 1\n",
        "      else:\n",
        "        counter[word] = 1\n",
        "  return counter\n",
        "\n",
        "result = count_word('/content/P1_data.txt')\n",
        "assert result['who'] == 3\n",
        "print (result['man'])"
      ]
    },
    {
      "cell_type": "code",
      "execution_count": 22,
      "metadata": {
        "colab": {
          "base_uri": "https://localhost:8080/"
        },
        "id": "3F1S-wHM7OCe",
        "outputId": "cc13231f-6d75-40ca-9c53-e96a5d8a31dd"
      },
      "outputs": [
        {
          "name": "stdout",
          "output_type": "stream",
          "text": [
            "4.0\n"
          ]
        }
      ],
      "source": [
        "# Exercise4_levenshtein_distance\n",
        "import numpy\n",
        "\n",
        "def levenshtein_distance(token1,token2):\n",
        "  distances = numpy.zeros((len(token1) + 1, len(token2) + 1))\n",
        "\n",
        "  for t1 in range(len(token1) + 1):\n",
        "    distances[t1][0] = t1\n",
        "\n",
        "  for t2 in range(len(token2) + 1):\n",
        "    distances[0][t2] = t2\n",
        "\n",
        "  a = 0\n",
        "  b = 0\n",
        "  c = 0\n",
        "\n",
        "  for t1 in range(1, len(token1) + 1):\n",
        "    for t2 in range(1, len(token2) + 1):\n",
        "      if token1[t1 - 1] == token2[t2 - 1]:\n",
        "        distances[t1][t2] = distances[t1 - 1][t2 - 1]\n",
        "      else:\n",
        "        a = distances[t1][t2 - 1]\n",
        "        b = distances[t1 - 1][t2]\n",
        "        c = distances[t1 - 1][t2 - 1]\n",
        "\n",
        "        if a <= b and a <= c:\n",
        "          distances[t1][t2] = a + 1\n",
        "        elif b <= c:\n",
        "          distances[t1][t2] = b + 1\n",
        "        else:\n",
        "          distances[t1][t2] = c + 1\n",
        "\n",
        "  return distances[len(token1)][len(token2)]\n",
        "\n",
        "assert levenshtein_distance(\"hi\",\"hello\") == 4.0\n",
        "print(levenshtein_distance(\"hola\",\" hello\"))"
      ]
    },
    {
      "cell_type": "code",
      "execution_count": 31,
      "metadata": {
        "colab": {
          "base_uri": "https://localhost:8080/"
        },
        "id": "ZvL-v_eC8ypM",
        "outputId": "f9e8dc9e-df4a-4bba-af52-85a1288b1e0e"
      },
      "outputs": [
        {
          "name": "stdout",
          "output_type": "stream",
          "text": [
            "True\n"
          ]
        }
      ],
      "source": [
        "# Trac nghiem - Cau hoi 5\n",
        "def check_the_number(N):\n",
        "  list_of_number = []\n",
        "  result = \"\"\n",
        "  for i in range(1,5):\n",
        "    list_of_number.append(i)\n",
        "    if N in list_of_number:\n",
        "      result = \"True\"\n",
        "    else:\n",
        "      result = \"False\"\n",
        "  return result\n",
        "\n",
        "N = 7\n",
        "assert check_the_number(N) == \"False\"\n",
        "N = 2\n",
        "result = check_the_number(N)\n",
        "print(result)"
      ]
    },
    {
      "cell_type": "code",
      "execution_count": 32,
      "metadata": {
        "colab": {
          "base_uri": "https://localhost:8080/"
        },
        "id": "dGr5IlhD_m1l",
        "outputId": "b58eeef2-7c4c-4d2d-c435-e96d64027b91"
      },
      "outputs": [
        {
          "name": "stdout",
          "output_type": "stream",
          "text": [
            "[2, 2, 2, 1, 1]\n"
          ]
        }
      ],
      "source": [
        "# Trac nghiem - Cau hoi 6\n",
        "def my_function(data,max,min):\n",
        "  result = []\n",
        "  for i in data:\n",
        "    if i< min:\n",
        "      result.append(min)\n",
        "    elif i > max:\n",
        "      result.append(max)\n",
        "    else:\n",
        "      result.append(i)\n",
        "  return result\n",
        "\n",
        "my_list = [5,2,5,0,1]\n",
        "max = 1\n",
        "min = 0\n",
        "assert my_function(my_list,max,min) == [1,1,1,0,1]\n",
        "my_list = [10,2,5,0,1]\n",
        "max = 2\n",
        "min = 1\n",
        "print(my_function(my_list,max,min))"
      ]
    },
    {
      "cell_type": "code",
      "execution_count": 35,
      "metadata": {
        "colab": {
          "base_uri": "https://localhost:8080/"
        },
        "id": "EKN146vSA6tW",
        "outputId": "e69cff18-66ea-4702-df04-b29a6c6bd36d"
      },
      "outputs": [
        {
          "name": "stdout",
          "output_type": "stream",
          "text": [
            "[1, 2, 3, 4, 0, 0]\n"
          ]
        }
      ],
      "source": [
        "# Trac nghiem - Cau hoi 7\n",
        "def my_function(x,y):\n",
        "  x.extend(y)\n",
        "  return x\n",
        "\n",
        "list_num1 = ['a',2,5]\n",
        "list_num2 = [3,4]\n",
        "list_num3 = [0,0]\n",
        "assert my_function(list_num1,my_function(list_num2,list_num3)) == ['a',2,5,3,4,0,0]\n",
        "\n",
        "list_num1 = [1,2]\n",
        "list_num2 = [3,4]\n",
        "list_num3 = [0,0]\n",
        "print(my_function(list_num1,my_function(list_num2,list_num3)))\n"
      ]
    },
    {
      "cell_type": "code",
      "execution_count": 67,
      "metadata": {
        "colab": {
          "base_uri": "https://localhost:8080/",
          "height": 332
        },
        "id": "iFGe2asqCC_1",
        "outputId": "4ad2d467-4251-4e29-a1e4-847d5485e6ef"
      },
      "outputs": [
        {
          "ename": "TypeError",
          "evalue": "'int' object is not callable",
          "output_type": "error",
          "traceback": [
            "\u001b[0;31m---------------------------------------------------------------------------\u001b[0m",
            "\u001b[0;31mTypeError\u001b[0m                                 Traceback (most recent call last)",
            "\u001b[0;32m<ipython-input-67-84bb40a9742e>\u001b[0m in \u001b[0;36m<cell line: 6>\u001b[0;34m()\u001b[0m\n\u001b[1;32m      4\u001b[0m \u001b[0;34m\u001b[0m\u001b[0m\n\u001b[1;32m      5\u001b[0m \u001b[0mmy_list\u001b[0m \u001b[0;34m=\u001b[0m \u001b[0;34m[\u001b[0m\u001b[0;36m1\u001b[0m\u001b[0;34m,\u001b[0m\u001b[0;36m22\u001b[0m\u001b[0;34m,\u001b[0m\u001b[0;36m93\u001b[0m\u001b[0;34m,\u001b[0m\u001b[0;34m-\u001b[0m\u001b[0;36m100\u001b[0m\u001b[0;34m]\u001b[0m\u001b[0;34m\u001b[0m\u001b[0;34m\u001b[0m\u001b[0m\n\u001b[0;32m----> 6\u001b[0;31m \u001b[0;32massert\u001b[0m \u001b[0mmy_function\u001b[0m\u001b[0;34m(\u001b[0m\u001b[0mmy_list\u001b[0m\u001b[0;34m)\u001b[0m \u001b[0;34m==\u001b[0m \u001b[0;34m-\u001b[0m\u001b[0;36m100\u001b[0m\u001b[0;34m\u001b[0m\u001b[0;34m\u001b[0m\u001b[0m\n\u001b[0m\u001b[1;32m      7\u001b[0m \u001b[0mmy_list\u001b[0m \u001b[0;34m=\u001b[0m \u001b[0;34m[\u001b[0m\u001b[0;36m1\u001b[0m\u001b[0;34m,\u001b[0m \u001b[0;36m2\u001b[0m\u001b[0;34m,\u001b[0m \u001b[0;36m3\u001b[0m\u001b[0;34m,\u001b[0m \u001b[0;34m-\u001b[0m\u001b[0;36m1\u001b[0m\u001b[0;34m]\u001b[0m\u001b[0;34m\u001b[0m\u001b[0;34m\u001b[0m\u001b[0m\n\u001b[1;32m      8\u001b[0m \u001b[0mprint\u001b[0m\u001b[0;34m(\u001b[0m\u001b[0mmy_function\u001b[0m\u001b[0;34m(\u001b[0m\u001b[0mmy_list\u001b[0m\u001b[0;34m)\u001b[0m\u001b[0;34m)\u001b[0m\u001b[0;34m\u001b[0m\u001b[0;34m\u001b[0m\u001b[0m\n",
            "\u001b[0;32m<ipython-input-67-84bb40a9742e>\u001b[0m in \u001b[0;36mmy_function\u001b[0;34m(n)\u001b[0m\n\u001b[1;32m      1\u001b[0m \u001b[0;31m# Trac nghiem - Cau hoi 8\u001b[0m\u001b[0;34m\u001b[0m\u001b[0;34m\u001b[0m\u001b[0m\n\u001b[1;32m      2\u001b[0m \u001b[0;32mdef\u001b[0m \u001b[0mmy_function\u001b[0m\u001b[0;34m(\u001b[0m\u001b[0mn\u001b[0m\u001b[0;34m)\u001b[0m\u001b[0;34m:\u001b[0m\u001b[0;34m\u001b[0m\u001b[0;34m\u001b[0m\u001b[0m\n\u001b[0;32m----> 3\u001b[0;31m   \u001b[0;32mreturn\u001b[0m \u001b[0mmin\u001b[0m\u001b[0;34m(\u001b[0m\u001b[0mn\u001b[0m\u001b[0;34m)\u001b[0m\u001b[0;34m\u001b[0m\u001b[0;34m\u001b[0m\u001b[0m\n\u001b[0m\u001b[1;32m      4\u001b[0m \u001b[0;34m\u001b[0m\u001b[0m\n\u001b[1;32m      5\u001b[0m \u001b[0mmy_list\u001b[0m \u001b[0;34m=\u001b[0m \u001b[0;34m[\u001b[0m\u001b[0;36m1\u001b[0m\u001b[0;34m,\u001b[0m\u001b[0;36m22\u001b[0m\u001b[0;34m,\u001b[0m\u001b[0;36m93\u001b[0m\u001b[0;34m,\u001b[0m\u001b[0;34m-\u001b[0m\u001b[0;36m100\u001b[0m\u001b[0;34m]\u001b[0m\u001b[0;34m\u001b[0m\u001b[0;34m\u001b[0m\u001b[0m\n",
            "\u001b[0;31mTypeError\u001b[0m: 'int' object is not callable"
          ]
        }
      ],
      "source": [
        "# Trac nghiem - Cau hoi 8\n",
        "def my_function(n):\n",
        "  return min(n)\n",
        "\n",
        "my_list = [1,22,93,-100]\n",
        "assert my_function(my_list) == -100\n",
        "my_list = [1, 2, 3, -1]\n",
        "print(my_function(my_list))"
      ]
    },
    {
      "cell_type": "code",
      "execution_count": 63,
      "metadata": {
        "colab": {
          "base_uri": "https://localhost:8080/",
          "height": 332
        },
        "id": "b4R5ms1oJfUI",
        "outputId": "b31d9ce5-0c7a-4d49-db85-761d78fa6bba"
      },
      "outputs": [
        {
          "ename": "TypeError",
          "evalue": "'int' object is not callable",
          "output_type": "error",
          "traceback": [
            "\u001b[0;31m---------------------------------------------------------------------------\u001b[0m",
            "\u001b[0;31mTypeError\u001b[0m                                 Traceback (most recent call last)",
            "\u001b[0;32m<ipython-input-63-a7c6e8ef29e0>\u001b[0m in \u001b[0;36m<cell line: 6>\u001b[0;34m()\u001b[0m\n\u001b[1;32m      4\u001b[0m \u001b[0;34m\u001b[0m\u001b[0m\n\u001b[1;32m      5\u001b[0m \u001b[0mmy_list\u001b[0m \u001b[0;34m=\u001b[0m \u001b[0;34m[\u001b[0m\u001b[0;36m1001\u001b[0m\u001b[0;34m,\u001b[0m\u001b[0;36m9\u001b[0m\u001b[0;34m,\u001b[0m\u001b[0;36m100\u001b[0m\u001b[0;34m,\u001b[0m\u001b[0;36m0\u001b[0m\u001b[0;34m]\u001b[0m\u001b[0;34m\u001b[0m\u001b[0;34m\u001b[0m\u001b[0m\n\u001b[0;32m----> 6\u001b[0;31m \u001b[0;32massert\u001b[0m \u001b[0mmy_function\u001b[0m\u001b[0;34m(\u001b[0m\u001b[0mmy_list\u001b[0m\u001b[0;34m)\u001b[0m \u001b[0;34m==\u001b[0m \u001b[0;36m1001\u001b[0m\u001b[0;34m\u001b[0m\u001b[0;34m\u001b[0m\u001b[0m\n\u001b[0m\u001b[1;32m      7\u001b[0m \u001b[0mmy_list\u001b[0m \u001b[0;34m=\u001b[0m \u001b[0;34m[\u001b[0m\u001b[0;36m1\u001b[0m\u001b[0;34m,\u001b[0m \u001b[0;36m9\u001b[0m\u001b[0;34m,\u001b[0m \u001b[0;36m9\u001b[0m\u001b[0;34m,\u001b[0m \u001b[0;36m0\u001b[0m\u001b[0;34m]\u001b[0m\u001b[0;34m\u001b[0m\u001b[0;34m\u001b[0m\u001b[0m\n\u001b[1;32m      8\u001b[0m \u001b[0mprint\u001b[0m\u001b[0;34m(\u001b[0m\u001b[0mmy_function\u001b[0m\u001b[0;34m(\u001b[0m\u001b[0mmy_list\u001b[0m\u001b[0;34m)\u001b[0m\u001b[0;34m)\u001b[0m\u001b[0;34m\u001b[0m\u001b[0;34m\u001b[0m\u001b[0m\n",
            "\u001b[0;32m<ipython-input-63-a7c6e8ef29e0>\u001b[0m in \u001b[0;36mmy_function\u001b[0;34m(n)\u001b[0m\n\u001b[1;32m      1\u001b[0m \u001b[0;31m# Trac nghiem - Cau hoi 9\u001b[0m\u001b[0;34m\u001b[0m\u001b[0;34m\u001b[0m\u001b[0m\n\u001b[1;32m      2\u001b[0m \u001b[0;32mdef\u001b[0m \u001b[0mmy_function\u001b[0m\u001b[0;34m(\u001b[0m\u001b[0mn\u001b[0m\u001b[0;34m)\u001b[0m\u001b[0;34m:\u001b[0m\u001b[0;34m\u001b[0m\u001b[0;34m\u001b[0m\u001b[0m\n\u001b[0;32m----> 3\u001b[0;31m   \u001b[0;32mreturn\u001b[0m \u001b[0mmax\u001b[0m\u001b[0;34m(\u001b[0m\u001b[0mn\u001b[0m\u001b[0;34m)\u001b[0m\u001b[0;34m\u001b[0m\u001b[0;34m\u001b[0m\u001b[0m\n\u001b[0m\u001b[1;32m      4\u001b[0m \u001b[0;34m\u001b[0m\u001b[0m\n\u001b[1;32m      5\u001b[0m \u001b[0mmy_list\u001b[0m \u001b[0;34m=\u001b[0m \u001b[0;34m[\u001b[0m\u001b[0;36m1001\u001b[0m\u001b[0;34m,\u001b[0m\u001b[0;36m9\u001b[0m\u001b[0;34m,\u001b[0m\u001b[0;36m100\u001b[0m\u001b[0;34m,\u001b[0m\u001b[0;36m0\u001b[0m\u001b[0;34m]\u001b[0m\u001b[0;34m\u001b[0m\u001b[0;34m\u001b[0m\u001b[0m\n",
            "\u001b[0;31mTypeError\u001b[0m: 'int' object is not callable"
          ]
        }
      ],
      "source": [
        "# Trac nghiem - Cau hoi 9\n",
        "def my_function(n):\n",
        "  return max(n)\n",
        "\n",
        "my_list = [1001,9,100,0]\n",
        "assert my_function(my_list) == 1001\n",
        "my_list = [1, 9, 9, 0]\n",
        "print(my_function(my_list))"
      ]
    },
    {
      "cell_type": "code",
      "execution_count": 72,
      "metadata": {
        "colab": {
          "base_uri": "https://localhost:8080/"
        },
        "id": "YVTGm4-KKobw",
        "outputId": "28e72e2d-079c-4fd3-d381-5c698bc36b29"
      },
      "outputs": [
        {
          "name": "stdout",
          "output_type": "stream",
          "text": [
            "[False, True, False, False]\n"
          ]
        }
      ],
      "source": [
        "# Trac nghiem - Cau hoi 10\n",
        "def my_function(intergers,number = 1):\n",
        "  result = []\n",
        "  for i in intergers:\n",
        "    if i == number:\n",
        "      result.append(True)\n",
        "    else:\n",
        "      result.append(False)\n",
        "  return result\n",
        "\n",
        "my_list = [1,3,9,4]\n",
        "assert my_function(my_list,-1) == [False,False,False,False]\n",
        "my_list = [1,2,3,4]\n",
        "print(my_function(my_list,2))"
      ]
    },
    {
      "cell_type": "code",
      "execution_count": 73,
      "metadata": {
        "colab": {
          "base_uri": "https://localhost:8080/"
        },
        "id": "QovbFYgDNG1Z",
        "outputId": "9a961e2a-324e-496c-9a0e-e9481074eae0"
      },
      "outputs": [
        {
          "name": "stdout",
          "output_type": "stream",
          "text": [
            "1.0\n"
          ]
        }
      ],
      "source": [
        "# Trac nghiem - Cau hoi 11\n",
        "def my_function(list_num = [0,1,2]):\n",
        "  var = 0\n",
        "  for i in list_num:\n",
        "    var += i\n",
        "  return var/len(list_num)\n",
        "\n",
        "assert my_function([4,6,8]) == 6\n",
        "print(my_function())"
      ]
    },
    {
      "cell_type": "code",
      "execution_count": 74,
      "metadata": {
        "colab": {
          "base_uri": "https://localhost:8080/"
        },
        "id": "qDehf533OY-A",
        "outputId": "29e6ed20-c670-4725-c912-2bb64c478905"
      },
      "outputs": [
        {
          "name": "stdout",
          "output_type": "stream",
          "text": [
            "[3, 6]\n"
          ]
        }
      ],
      "source": [
        "# Trac nghiem - Cau hoi 12\n",
        "def my_function(data):\n",
        "  var = []\n",
        "  for i in data:\n",
        "    if i % 3 == 0:\n",
        "      var.append(i)\n",
        "  return var\n",
        "\n",
        "assert my_function([3,9,4,5]) == [3,9]\n",
        "print(my_function([1,2,3,5,6]))"
      ]
    },
    {
      "cell_type": "code",
      "execution_count": 76,
      "metadata": {
        "colab": {
          "base_uri": "https://localhost:8080/"
        },
        "id": "zz2tkrfnO2Vb",
        "outputId": "1782cb1b-3b40-425d-871a-c916e6391fac"
      },
      "outputs": [
        {
          "name": "stdout",
          "output_type": "stream",
          "text": [
            "24\n"
          ]
        }
      ],
      "source": [
        "# Trac nghiem - Cau hoi 13\n",
        "def my_function(y):\n",
        "  var = 1\n",
        "  while(y>1):\n",
        "    var *= y\n",
        "    y= y-1\n",
        "  return var\n",
        "\n",
        "assert my_function(8) == 40320\n",
        "print(my_function(4))"
      ]
    },
    {
      "cell_type": "code",
      "execution_count": 84,
      "metadata": {
        "colab": {
          "base_uri": "https://localhost:8080/"
        },
        "id": "b-XSruwBQGci",
        "outputId": "f83191cb-2f68-49df-d923-2d88384d2f2d"
      },
      "outputs": [
        {
          "name": "stdout",
          "output_type": "stream",
          "text": [
            "tocirpa\n"
          ]
        }
      ],
      "source": [
        "# Trac nghiem - Cau hoi 14\n",
        "def my_function(x):\n",
        "  return x[::-1]\n",
        "\n",
        "x = 'I can do it'\n",
        "assert my_function(x) == \"ti od nac I\"\n",
        "\n",
        "x = 'apricot'\n",
        "print(my_function(x))"
      ]
    },
    {
      "cell_type": "code",
      "execution_count": 92,
      "metadata": {
        "colab": {
          "base_uri": "https://localhost:8080/"
        },
        "id": "TUeRNNjERXyw",
        "outputId": "b6b88ec9-0e48-4f5a-9bbd-12dc0a54891b"
      },
      "outputs": [
        {
          "name": "stdout",
          "output_type": "stream",
          "text": [
            "['T', 'T', 'T', 'N']\n"
          ]
        }
      ],
      "source": [
        "# Trac nghiem - Cau hoi 15\n",
        "def function_helper(x):\n",
        "  if x > 0:\n",
        "      result = 'T'\n",
        "  else:\n",
        "      result = 'N'\n",
        "  return result\n",
        "\n",
        "def my_function(data):\n",
        "  res = [function_helper(x) for x in data]\n",
        "  return res\n",
        "\n",
        "data = [10,0,-10,-1]\n",
        "assert my_function(data) == ['T','N','N','N']\n",
        "\n",
        "data = [2,3,5,-1]\n",
        "print(my_function(data))"
      ]
    },
    {
      "cell_type": "code",
      "execution_count": 97,
      "metadata": {
        "colab": {
          "base_uri": "https://localhost:8080/"
        },
        "id": "ktTACxWjVZ6x",
        "outputId": "c8cdfdde-4dbb-41b8-d8ff-f7d66ff67f3e"
      },
      "outputs": [
        {
          "name": "stdout",
          "output_type": "stream",
          "text": [
            "[9, 8, 1]\n"
          ]
        }
      ],
      "source": [
        "# Trac nghiem - Cau hoi 16\n",
        "def function_helper(x,data):\n",
        "  if x in data:\n",
        "    return False\n",
        "  else:\n",
        "    return True\n",
        "\n",
        "def my_function(data):\n",
        "  res = []\n",
        "  for x in data:\n",
        "    if function_helper(x,res):\n",
        "      res.append(x)\n",
        "  return res\n",
        "\n",
        "lst = [10,10,9,7,7]\n",
        "assert my_function(lst) == [10,9,7]\n",
        "\n",
        "lst = [9,9,8,1,1]\n",
        "print(my_function(lst))"
      ]
    }
  ],
  "metadata": {
    "colab": {
      "provenance": []
    },
    "kernelspec": {
      "display_name": "Python 3",
      "name": "python3"
    },
    "language_info": {
      "name": "python"
    }
  },
  "nbformat": 4,
  "nbformat_minor": 0
}
