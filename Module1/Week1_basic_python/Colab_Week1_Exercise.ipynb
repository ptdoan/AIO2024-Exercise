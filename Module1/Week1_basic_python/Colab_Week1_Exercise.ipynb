{
  "nbformat": 4,
  "nbformat_minor": 0,
  "metadata": {
    "colab": {
      "provenance": []
    },
    "kernelspec": {
      "name": "python3",
      "display_name": "Python 3"
    },
    "language_info": {
      "name": "python"
    }
  },
  "cells": [
    {
      "cell_type": "code",
      "execution_count": null,
      "metadata": {
        "id": "JFWUQWe-99N6",
        "colab": {
          "base_uri": "https://localhost:8080/"
        },
        "outputId": "67d12b0f-cc21-4900-f06a-cb71616daaca"
      },
      "outputs": [
        {
          "output_type": "stream",
          "name": "stdout",
          "text": [
            "precision =  0.2222222222222222\n",
            "recall    =  0.4\n",
            "f1_score  =  0.2857142857142857\n"
          ]
        },
        {
          "output_type": "execute_result",
          "data": {
            "text/plain": [
              "0.2857142857142857"
            ]
          },
          "metadata": {},
          "execution_count": 128
        }
      ],
      "source": [
        "#*************Exercise1***********\n",
        "\n",
        "# Make the function for Excercise1\n",
        "def calc_f1_score(tp,fb, fn):\n",
        "  check1 = isinstance(tp, int)\n",
        "  check2 = isinstance(fb, int)\n",
        "  check3 = isinstance(fn, int)\n",
        "  check4 = (tp>0) and (fb>0) and (fn>0)\n",
        "\n",
        "  if check1==False:\n",
        "    print('tp must be in interger')\n",
        "  elif check2==False:\n",
        "    print('fb must be in interger')\n",
        "  elif check3==False:\n",
        "    print('fn must be in interger')\n",
        "  elif check4==False:\n",
        "    print('tp and fb and fn must be greater than zero')\n",
        "  else:\n",
        "    precision = tp/(tp+fb)\n",
        "    recall = tp/(tp+fn)\n",
        "    f1_score = 2*precision*recall/(precision+recall)\n",
        "    print('precision = ',precision)\n",
        "    print('recall    = ',recall)\n",
        "    print('f1_score  = ',f1_score)\n",
        "  return f1_score\n",
        "\n",
        "# Check the Result of Excercise 1\n",
        "calc_f1_score(2,7,3)"
      ]
    },
    {
      "cell_type": "code",
      "source": [
        "#*************Exercise2***********\n",
        "import math\n",
        "\n",
        "def is_number(n):\n",
        "  try:\n",
        "      float(n)\n",
        "  except ValueError:\n",
        "      return False\n",
        "  return True\n",
        "#is_number('a')\n",
        "\n",
        "def calc_sig(x):\n",
        "  result = 1/(1+math.e**(-x))\n",
        "  return result\n",
        "#calc_sig(2)\n",
        "\n",
        "def calc_relu(x):\n",
        "  if x<0:\n",
        "    result = 0\n",
        "  else:\n",
        "    result = x\n",
        "  return result\n",
        "#calc_relu(2)\n",
        "\n",
        "def calc_elu(x):\n",
        "  alpha = 0.01\n",
        "  if x<0:\n",
        "    result = alpha*(math.e**x-1)\n",
        "  else:\n",
        "    result = x\n",
        "  return result\n",
        "#calc_elu(-4)\n",
        "\n",
        "def calc_activation_func(x,act_name):\n",
        "  result = None\n",
        "  if act_name == \"sigmoid\":\n",
        "    result = calc_sig(x)\n",
        "  elif act_name == \"relu\":\n",
        "    result = calc_relu(x)\n",
        "  elif act_name == \"elu\":\n",
        "    result = calc_elu(x)\n",
        "  return result\n",
        "#calc_activation_func(-2,\"relu\")\n",
        "\n",
        "def exercise2():\n",
        "  x = input('Input x =')\n",
        "\n",
        "  if is_number(x)== False:\n",
        "    print('x must be a number')\n",
        "    return\n",
        "\n",
        "  act_name_list = [\"sigoid\", \"relu\", \"elu\"]\n",
        "  act_name = input('activation function name: ')\n",
        "\n",
        "  # Check if the string is in the list of activation function name\n",
        "\n",
        "  if act_name in act_name_list:\n",
        "    x = float(x)\n",
        "    result = calc_activation_func(x,act_name)\n",
        "    print(f\"{act_name}({x}) = {result}\")\n",
        "  else:\n",
        "      print(f\"'{act_name}' is not supported\")\n",
        "\n",
        "\n",
        "# Check the Result of Excercise 2\n",
        "exercise2()\n"
      ],
      "metadata": {
        "id": "2zHL03EmD5sp",
        "colab": {
          "base_uri": "https://localhost:8080/"
        },
        "outputId": "29fb8163-9fb7-4ff7-cec0-4e8069d0add8"
      },
      "execution_count": null,
      "outputs": [
        {
          "output_type": "stream",
          "name": "stdout",
          "text": [
            "Input x =2\n",
            "activation function name: elu\n",
            "elu(2.0) = 2.0\n"
          ]
        }
      ]
    },
    {
      "cell_type": "code",
      "source": [
        "#*************Exercise3 ***********\n",
        "import random\n",
        "import math\n",
        "\n",
        "def calc_ae(y,y_hat):\n",
        "  result = abs(y-y_hat)\n",
        "  return result\n",
        "\n",
        "def calc_se(y,y_hat):\n",
        "  result = (y-y_hat)**2\n",
        "  return result\n",
        "\n",
        "def mean(N):\n",
        "  mean = 0\n",
        "  # Loop from 0 to N-1\n",
        "  for i in range(N):\n",
        "    mean += i\n",
        "  mean /=N\n",
        "  return mean\n",
        "\n",
        "def exercise3():\n",
        "  num_samples = input('Input num_samples =')\n",
        "\n",
        "\n",
        "  if num_samples.isnumeric():\n",
        "    num_samples = int(num_samples)\n",
        "  else:\n",
        "    print('number of samples must be an integer number')\n",
        "    return\n",
        "\n",
        "  loss_name_list = [\"MAE\", \"MSE\", \"RMSE\"]\n",
        "  loss_name = input('Input loss name: ')\n",
        "\n",
        "  if loss_name not in loss_name_list:\n",
        "    print(f\"'{loss_name}' is not supported\")\n",
        "    return\n",
        "\n",
        "  final_loss = 0\n",
        "  for i in range(num_samples):\n",
        "    sample = i\n",
        "    pred_sample = random.uniform(0, 10)\n",
        "    target_sample = random.uniform(0, 10)\n",
        "\n",
        "    if loss_name == \"MAE\":\n",
        "      loss = calc_ae(sample,target_sample)\n",
        "    elif loss_name == \"MSE\" or loss_name == \"RMSE\" :\n",
        "      loss = calc_se(sample,target_sample)\n",
        "\n",
        "    final_loss +=loss\n",
        "    print(f\"loss_name: {loss_name}, sample: {sample}: pred: {pred_sample} \\\n",
        "    target: {target_sample} loss: {loss}\")\n",
        "\n",
        "  final_loss /= num_samples\n",
        "  if loss_name == \"RMSE\":\n",
        "    final_loss = math.sqrt(final_loss)\n",
        "\n",
        "  print(f\"final_loss: {final_loss}\")\n",
        "\n",
        "\n",
        "\n",
        "# Check the Result of Excercise 3\n",
        "exercise3()"
      ],
      "metadata": {
        "colab": {
          "base_uri": "https://localhost:8080/"
        },
        "id": "W8QQfWMYjUCR",
        "outputId": "71f98424-caf1-42f9-e659-a1fb02090897"
      },
      "execution_count": null,
      "outputs": [
        {
          "output_type": "stream",
          "name": "stdout",
          "text": [
            "Input num_samples =5\n",
            "Input loss name: MSE\n",
            "loss_name: MSE, sample: 0: pred: 4.428673698627163     target: 9.582374356655519 loss: 91.82189831108927\n",
            "loss_name: MSE, sample: 1: pred: 3.2199672826319437     target: 7.844646088939794 loss: 46.84918008283882\n",
            "loss_name: MSE, sample: 2: pred: 3.1433002314212133     target: 2.230201379504093 loss: 0.052992675125587516\n",
            "loss_name: MSE, sample: 3: pred: 5.419729116952086     target: 0.17270032731919627 loss: 7.993623439140979\n",
            "loss_name: MSE, sample: 4: pred: 9.197021813581928     target: 4.0066075160326236 loss: 4.365926812137726e-05\n",
            "final_loss: 29.343547633492555\n"
          ]
        }
      ]
    },
    {
      "cell_type": "code",
      "source": [
        "\n",
        "#*************Exercise4 ***********\n",
        "\n",
        "def factorial_fcn(x):\n",
        "  result = 1\n",
        "  for i in range(x):\n",
        "    result *= (i+1)\n",
        "  return result\n",
        "\n",
        "def approx_sin(x,n):\n",
        "  sin_approx = 0\n",
        "  for i in range(n+1):\n",
        "    coef = (-1)**i\n",
        "    num = x**(2*i+1)\n",
        "    denom = factorial_fcn(2*i+1)\n",
        "    sin_approx += (coef)*((num)/(denom))\n",
        "  return sin_approx\n",
        "\n",
        "def approx_cos(x,n):\n",
        "  cos_approx = 0\n",
        "  for i in range(n+1):\n",
        "    coef = (-1)**i\n",
        "    num = x**(2*i)\n",
        "    denom = factorial_fcn(2*i)\n",
        "    cos_approx += (coef)*((num)/(denom))\n",
        "  return cos_approx\n",
        "\n",
        "def approx_sinh(x,n):\n",
        "  sinh_approx = 0\n",
        "  for i in range(n+1):\n",
        "    coef = 1\n",
        "    num = x**(2*i+1)\n",
        "    denom = factorial_fcn(2*i+1)\n",
        "    sinh_approx += (coef)*((num)/(denom))\n",
        "  return sinh_approx\n",
        "\n",
        "\n",
        "def approx_cosh(x,n):\n",
        "  cosh_approx = 0\n",
        "  for i in range(n+1):\n",
        "    coef = 1\n",
        "    num = x**(2*i)\n",
        "    denom = factorial_fcn(2*i)\n",
        "    cosh_approx += (coef)*((num)/(denom))\n",
        "  return cosh_approx\n",
        "\n",
        "\n",
        "# Check the Result of Excercise 4\n",
        "#approx_sin(3.14,6)\n",
        "#approx_cos(1.7,6)\n",
        "#approx_sinh(1,6)\n",
        "approx_cosh(1,6)\n"
      ],
      "metadata": {
        "colab": {
          "base_uri": "https://localhost:8080/"
        },
        "id": "jnshiiVg0rhW",
        "outputId": "b4bdc166-0b25-4127-cd0b-4c7cabe12000"
      },
      "execution_count": null,
      "outputs": [
        {
          "output_type": "execute_result",
          "data": {
            "text/plain": [
              "1.5430806348037251"
            ]
          },
          "metadata": {},
          "execution_count": 130
        }
      ]
    },
    {
      "cell_type": "code",
      "source": [
        "#*************Exercise5 ***********\n",
        "def md_nre_single_sample(y,y_hat,n,p):\n",
        "  y_root = y**(1/n)\n",
        "  y_hat_root = y_hat**(1/n)\n",
        "  difference = y_root - y_hat_root\n",
        "  loss = difference**p\n",
        "  return loss\n",
        "\n",
        "# Check the Result of Excercise 5\n",
        "md_nre_single_sample (100 , 99.5 , 2, 1)"
      ],
      "metadata": {
        "colab": {
          "base_uri": "https://localhost:8080/"
        },
        "id": "D00ps5d-UqKy",
        "outputId": "b4c1cf7d-ee09-40e2-fae9-3eee9411cbd4"
      },
      "execution_count": null,
      "outputs": [
        {
          "output_type": "execute_result",
          "data": {
            "text/plain": [
              "0.025031328369998107"
            ]
          },
          "metadata": {},
          "execution_count": 122
        }
      ]
    },
    {
      "cell_type": "code",
      "source": [],
      "metadata": {
        "id": "ZrLNu5GnYK60"
      },
      "execution_count": null,
      "outputs": []
    }
  ]
}